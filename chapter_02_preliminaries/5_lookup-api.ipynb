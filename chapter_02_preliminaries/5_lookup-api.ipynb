{
 "cells": [
  {
   "cell_type": "markdown",
   "metadata": {
    "slideshow": {
     "slide_type": "-"
    }
   },
   "source": [
    "# 查阅文档\n",
    "\n"
   ]
  },
  {
   "cell_type": "markdown",
   "metadata": {
    "slideshow": {
     "slide_type": "-"
    }
   },
   "source": [
    "查询mindspore的所有属性"
   ]
  },
  {
   "cell_type": "code",
   "execution_count": 1,
   "metadata": {
    "attributes": {
     "classes": [],
     "id": "",
     "n": "1"
    },
    "origin_pos": 6,
    "tab": [
     "pytorch"
    ]
   },
   "outputs": [
    {
     "name": "stdout",
     "output_type": "stream",
     "text": [
      "['DatasetHelper', 'DynamicLossScaleManager', 'FixedLossScaleManager', 'Int', 'LossScaleManager', 'Model', 'Parameter', 'ParameterTuple', 'RowTensor', 'SparseTensor', 'Tensor', 'Type', '__all__', '__builtins__', '__cached__', '__doc__', '__file__', '__loader__', '__name__', '__package__', '__path__', '__spec__', '__version__', '_c_expression', '_checkparam', '_extends', '_op_impl', 'amp', 'async_ckpt_thread_status', 'bool_', 'boost', 'build_searched_strategy', 'build_train_network', 'byte', 'common', 'communication', 'complex128', 'complex64', 'compression', 'connect_network_with_dataset', 'context', 'default_config', 'double', 'dtype', 'dtype_to_nptype', 'dtype_to_pytype', 'export', 'float16', 'float32', 'float64', 'float_', 'get_level', 'get_log_config', 'get_py_obj_dtype', 'get_seed', 'half', 'int16', 'int32', 'int64', 'int8', 'int_', 'intc', 'intp', 'issubclass_', 'list_', 'load', 'load_checkpoint', 'load_distributed_checkpoint', 'load_param_into_net', 'log', 'merge_sliced_parameter', 'ms_function', 'nn', 'number', 'ops', 'parallel', 'parse_print', 'pytype_to_dtype', 'run_check', 'save_checkpoint', 'set_seed', 'short', 'single', 'string', 'tensor', 'tensor_type', 'train', 'tuple_', 'type_none', 'ubyte', 'uint', 'uint16', 'uint32', 'uint64', 'uint8', 'uintc', 'uintp', 'ushort', 'version']\n"
     ]
    }
   ],
   "source": [
    "import mindspore\n",
    "\n",
    "print(dir(mindspore))"
   ]
  },
  {
   "cell_type": "markdown",
   "metadata": {
    "slideshow": {
     "slide_type": "slide"
    }
   },
   "source": [
    "查看张量`ones`函数的用法"
   ]
  },
  {
   "cell_type": "code",
   "execution_count": 2,
   "metadata": {
    "origin_pos": 10,
    "tab": [
     "pytorch"
    ]
   },
   "outputs": [
    {
     "name": "stdout",
     "output_type": "stream",
     "text": [
      "Help on function ones in module mindspore.numpy.array_creations:\n",
      "\n",
      "ones(shape, dtype=mindspore.float32)\n",
      "    Returns a new tensor of given shape and type, filled with ones.\n",
      "    \n",
      "    Args:\n",
      "        shape (Union[int, tuple, list]): the shape of the new tensor.\n",
      "        dtype (Union[:class:`mindspore.dtype`, str], optional): Designated tensor dtype.\n",
      "            Default is :class:`mstype.float32`.\n",
      "    \n",
      "    Returns:\n",
      "        Tensor, with the designated `shape` and `dtype`, filled with ones.\n",
      "    \n",
      "    Raises:\n",
      "        TypeError: If input arguments have types not specified above.\n",
      "        ValueError: If `shape` entries have values :math:`< 0`.\n",
      "    \n",
      "    Supported Platforms:\n",
      "        ``Ascend`` ``GPU`` ``CPU``\n",
      "    \n",
      "    Examples:\n",
      "        >>> import mindspore.numpy as np\n",
      "        >>> print(np.ones((2,2)))\n",
      "        [[1. 1.]\n",
      "        [1. 1.]]\n",
      "\n"
     ]
    }
   ],
   "source": [
    "import mindspore.numpy as mnp\n",
    "help(mnp.ones)"
   ]
  },
  {
   "cell_type": "markdown",
   "metadata": {
    "slideshow": {
     "slide_type": "slide"
    }
   },
   "source": [
    "运行一个快速测试"
   ]
  },
  {
   "cell_type": "code",
   "execution_count": 3,
   "metadata": {
    "origin_pos": 14,
    "tab": [
     "pytorch"
    ]
   },
   "outputs": [
    {
     "data": {
      "text/plain": [
       "Tensor(shape=[2, 2], dtype=Float32, value=\n",
       "[[ 1.00000000e+00,  1.00000000e+00],\n",
       " [ 1.00000000e+00,  1.00000000e+00]])"
      ]
     },
     "execution_count": 3,
     "metadata": {},
     "output_type": "execute_result"
    }
   ],
   "source": [
    "mnp.ones((2, 2))"
   ]
  }
 ],
 "metadata": {
  "celltoolbar": "Slideshow",
  "kernelspec": {
   "display_name": "Python 3 (ipykernel)",
   "language": "python",
   "name": "python3"
  },
  "language_info": {
   "codemirror_mode": {
    "name": "ipython",
    "version": 3
   },
   "file_extension": ".py",
   "mimetype": "text/x-python",
   "name": "python",
   "nbconvert_exporter": "python",
   "pygments_lexer": "ipython3",
   "version": "3.7.5"
  },
  "rise": {
   "autolaunch": true,
   "enable_chalkboard": true,
   "overlay": "<div class='my-top-right'><img height=80px src='http://d2l.ai/_static/logo-with-text.png'/></div><div class='my-top-left'></div>",
   "scroll": true
  }
 },
 "nbformat": 4,
 "nbformat_minor": 4
}
