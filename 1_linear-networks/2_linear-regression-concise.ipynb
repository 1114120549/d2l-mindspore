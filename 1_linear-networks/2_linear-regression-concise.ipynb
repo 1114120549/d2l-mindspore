{
 "cells": [
  {
   "cell_type": "markdown",
   "metadata": {
    "slideshow": {
     "slide_type": "slide"
    }
   },
   "source": [
    "# 线性回归的简洁实现\n",
    "\n",
    "通过使用深度学习框架来简洁地实现\n",
    "线性回归模型\n",
    "生成数据集"
   ]
  },
  {
   "cell_type": "code",
   "execution_count": 1,
   "metadata": {},
   "outputs": [],
   "source": [
    "import sys\n",
    "sys.path.append('..')"
   ]
  },
  {
   "cell_type": "code",
   "execution_count": 2,
   "metadata": {
    "origin_pos": 4,
    "tab": [
     "pytorch"
    ]
   },
   "outputs": [],
   "source": [
    "import numpy as np\n",
    "import mindspore\n",
    "import mindspore.dataset as ds\n",
    "from d2l import mindspore as d2l\n",
    "\n",
    "true_w = np.array([2, -3.4])\n",
    "true_b = 4.2\n",
    "features, labels = d2l.synthetic_data(true_w, true_b, 1000)"
   ]
  },
  {
   "cell_type": "markdown",
   "metadata": {
    "slideshow": {
     "slide_type": "slide"
    }
   },
   "source": [
    "调用框架中现有的API来读取数据"
   ]
  },
  {
   "cell_type": "code",
   "execution_count": 3,
   "metadata": {
    "origin_pos": 11,
    "tab": [
     "pytorch"
    ]
   },
   "outputs": [
    {
     "data": {
      "text/plain": [
       "[Tensor(shape=[10, 2], dtype=Float32, value=\n",
       " [[ 8.51511881e-02, -3.25021654e-01],\n",
       "  [-1.33117318e+00, -1.25770819e+00],\n",
       "  [-3.45325400e-03, -9.79733467e-01],\n",
       "  ...\n",
       "  [ 2.16835260e-01,  8.35646749e-01],\n",
       "  [ 7.26829946e-01, -1.49664378e+00],\n",
       "  [-2.02917647e+00, -8.47443104e-01]]),\n",
       " Tensor(shape=[10, 1], dtype=Float32, value=\n",
       " [[ 5.46032476e+00],\n",
       "  [ 5.79959869e+00],\n",
       "  [ 7.52748537e+00],\n",
       "  ...\n",
       "  [ 1.79961002e+00],\n",
       "  [ 1.07523937e+01],\n",
       "  [ 3.02442169e+00]])]"
      ]
     },
     "execution_count": 3,
     "metadata": {},
     "output_type": "execute_result"
    }
   ],
   "source": [
    "def load_array(data_arrays, column_names, batch_size, is_train=True):  \n",
    "    \"\"\"构造一个MindSpore数据迭代器。\"\"\"\n",
    "    dataset = ds.GeneratorDataset(data_arrays, column_names, shuffle=is_train)\n",
    "    dataset = dataset.batch(batch_size)\n",
    "    return dataset\n",
    "\n",
    "batch_size = 10\n",
    "dataset = load_array(zip(features, labels), ['features', 'labels'], batch_size)\n",
    "\n",
    "next(iter(dataset.create_tuple_iterator()))"
   ]
  },
  {
   "cell_type": "markdown",
   "metadata": {
    "slideshow": {
     "slide_type": "slide"
    }
   },
   "source": [
    "使用框架的预定义好的层, 这里初始化模型参数可以直接使用传参的方式"
   ]
  },
  {
   "cell_type": "code",
   "execution_count": 4,
   "metadata": {
    "origin_pos": 17,
    "tab": [
     "pytorch"
    ]
   },
   "outputs": [],
   "source": [
    "import mindspore.nn as nn\n",
    "from mindspore.common.initializer import Normal\n",
    "\n",
    "net = nn.SequentialCell([nn.Dense(2, 1, weight_init=Normal(0.01, 0), bias_init='zero')])"
   ]
  },
  {
   "cell_type": "markdown",
   "metadata": {
    "slideshow": {
     "slide_type": "slide"
    }
   },
   "source": [
    "计算均方误差使用的是`MSELoss`类，也称为平方$L_2$范数"
   ]
  },
  {
   "cell_type": "code",
   "execution_count": 5,
   "metadata": {
    "origin_pos": 34,
    "tab": [
     "pytorch"
    ]
   },
   "outputs": [],
   "source": [
    "loss = nn.MSELoss()"
   ]
  },
  {
   "cell_type": "markdown",
   "metadata": {},
   "source": [
    "将net与loss连接,这里使用MindSpore自带的Wrapper, `nn.WithLossCell`"
   ]
  },
  {
   "cell_type": "code",
   "execution_count": 6,
   "metadata": {},
   "outputs": [],
   "source": [
    "net_with_loss = nn.WithLossCell(net, loss)"
   ]
  },
  {
   "cell_type": "markdown",
   "metadata": {
    "slideshow": {
     "slide_type": "-"
    }
   },
   "source": [
    "实例化一个`SGD`实例"
   ]
  },
  {
   "cell_type": "code",
   "execution_count": 7,
   "metadata": {
    "origin_pos": 41,
    "tab": [
     "pytorch"
    ]
   },
   "outputs": [],
   "source": [
    "optim = nn.SGD(net.trainable_params(), learning_rate=0.03)"
   ]
  },
  {
   "cell_type": "markdown",
   "metadata": {},
   "source": [
    "将net,loss,optim连接，这里使用MindSpore自带的Wrapper, `nn.TrainOneStepCell`"
   ]
  },
  {
   "cell_type": "code",
   "execution_count": 8,
   "metadata": {},
   "outputs": [],
   "source": [
    "trainer = nn.TrainOneStepCell(net_with_loss, optim)"
   ]
  },
  {
   "cell_type": "code",
   "execution_count": 9,
   "metadata": {},
   "outputs": [
    {
     "data": {
      "text/plain": [
       "[<mindspore.dataset.engine.datasets.GeneratorDataset at 0x7f4d2bc11890>]"
      ]
     },
     "execution_count": 9,
     "metadata": {},
     "output_type": "execute_result"
    }
   ],
   "source": [
    "dataset.children"
   ]
  },
  {
   "cell_type": "markdown",
   "metadata": {
    "slideshow": {
     "slide_type": "slide"
    }
   },
   "source": [
    "训练过程代码与我们从零开始实现时所做的非常相似"
   ]
  },
  {
   "cell_type": "code",
   "execution_count": 10,
   "metadata": {
    "origin_pos": 45,
    "tab": [
     "pytorch"
    ]
   },
   "outputs": [
    {
     "name": "stderr",
     "output_type": "stream",
     "text": [
      "[WARNING] ME(3050485:139974324291392,MainProcess):2021-10-30-02:46:04.340.190 [mindspore/dataset/engine/iterators.py:137] No records available.\n",
      "[WARNING] ME(3050485:139974324291392,MainProcess):2021-10-30-02:46:04.347.666 [mindspore/dataset/engine/iterators.py:137] No records available.\n"
     ]
    },
    {
     "name": "stdout",
     "output_type": "stream",
     "text": [
      "epoch 1, loss 0.000310\n",
      "epoch 2, loss 0.000310\n",
      "epoch 3, loss 0.000310\n"
     ]
    }
   ],
   "source": [
    "num_epochs = 3\n",
    "epoch = 0\n",
    "for epoch in range(num_epochs):\n",
    "    for X, y in dataset:\n",
    "        l = trainer(X ,y)\n",
    "    l = net_with_loss(mindspore.Tensor(features), mindspore.Tensor(labels))\n",
    "    print(f'epoch {epoch + 1}, loss {l.asnumpy():f}')\n",
    "# 这里报了Warning提示数据找不到，应该是bug，等待mindspore方面修复"
   ]
  },
  {
   "cell_type": "markdown",
   "metadata": {
    "slideshow": {
     "slide_type": "slide"
    }
   },
   "source": [
    "比较生成数据集的真实参数和通过有限数据训练获得的模型参数"
   ]
  },
  {
   "cell_type": "code",
   "execution_count": 11,
   "metadata": {
    "origin_pos": 49,
    "tab": [
     "pytorch"
    ]
   },
   "outputs": [
    {
     "name": "stdout",
     "output_type": "stream",
     "text": [
      "w的估计误差： [Tensor(shape=[], dtype=Float32, value= 0.00407457)\n",
      " Tensor(shape=[], dtype=Float32, value= -0.00747585)]\n",
      "b的估计误差： [0.0112133]\n"
     ]
    }
   ],
   "source": [
    "w = net[0].weight.data\n",
    "print('w的估计误差：', true_w - w.reshape(true_w.shape))\n",
    "b = net[0].bias.data\n",
    "print('b的估计误差：', true_b - b)"
   ]
  }
 ],
 "metadata": {
  "celltoolbar": "Slideshow",
  "kernelspec": {
   "display_name": "Python 3 (ipykernel)",
   "language": "python",
   "name": "python3"
  },
  "language_info": {
   "codemirror_mode": {
    "name": "ipython",
    "version": 3
   },
   "file_extension": ".py",
   "mimetype": "text/x-python",
   "name": "python",
   "nbconvert_exporter": "python",
   "pygments_lexer": "ipython3",
   "version": "3.7.5"
  },
  "rise": {
   "autolaunch": true,
   "enable_chalkboard": true,
   "overlay": "<div class='my-top-right'><img height=80px src='http://d2l.ai/_static/logo-with-text.png'/></div><div class='my-top-left'></div>",
   "scroll": true
  }
 },
 "nbformat": 4,
 "nbformat_minor": 4
}
